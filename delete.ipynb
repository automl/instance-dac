{
 "cells": [
  {
   "cell_type": "code",
   "execution_count": 5,
   "metadata": {},
   "outputs": [
    {
     "name": "stderr",
     "output_type": "stream",
     "text": [
      "100%|██████████| 4604/4604 [00:12<00:00, 376.08it/s]\n"
     ]
    }
   ],
   "source": [
    "from pathlib import Path\n",
    "import shutil\n",
    "import tqdm\n",
    "\n",
    "path = Path(\"runs/Sigmoid/2D3M_train/ppo/selector\")\n",
    "dirs = list(path.glob(\"**/sigmoid_2D3M_test\"))\n",
    "for dir in tqdm.tqdm(dirs):\n",
    "    # shutil.rmtree(dir)\n",
    "    print(\"rm\", dir)\n",
    "# shutil.rmtree() "
   ]
  },
  {
   "cell_type": "code",
   "execution_count": 1,
   "metadata": {},
   "outputs": [
    {
     "name": "stdout",
     "output_type": "stream",
     "text": [
      "38\n",
      "['BentCigar' 'Discus' 'Ellipsoid' 'Katsuura' 'Rastrigin' 'Rosenbrock'\n",
      " 'Schaffers' 'Schwefel' 'Sphere' 'Weierstrass']\n",
      "['Schaffers' 'Sphere' 'Weierstrass' 'Discus' 'Katsuura']\n",
      "functions BentCigar, Discus, Ellipsoid, Katsuura, Rastrigin, Rosenbrock, Schaffers, Schwefel, Sphere, Weierstrass\n",
      "Index(['ID', 'dim', 'fcn_name', 'fcn_index', 'init_sigma', 'init_loc0',\n",
      "       'init_loc1', 'init_loc2', 'init_loc3', 'init_loc4', 'init_loc5',\n",
      "       'init_loc6', 'init_loc7', 'init_loc8', 'init_loc9'],\n",
      "      dtype='object')\n",
      "dims [10]\n"
     ]
    }
   ],
   "source": [
    "import pandas as pd\n",
    "df = pd.read_csv(\"DACBench/dacbench/instance_sets/cma/cma_test.csv\")\n",
    "\n",
    "nan_ids = [6,  8,  9, 16, 18, 19, 26, 28, 29, 36, 38, 39, 46, 48, 49, 56, 58, 59, 66, 68, 69, 76, 78, 79, 86, 88, 89, 96, 98, 99, 21, 71, 91, 41, 81, 93, 11, 83,]\n",
    "print(len(nan_ids))\n",
    "print(df[\"fcn_name\"].unique())\n",
    "print(df[df[\"ID\"].isin(nan_ids)][\"fcn_name\"].unique())\n",
    "\n",
    "F = list(df[\"fcn_name\"].unique())\n",
    "print(\"functions\", \", \".join(F))\n",
    "print(df.columns)\n",
    "print(\"dims\", df[\"dim\"].unique())\n"
   ]
  },
  {
   "cell_type": "code",
   "execution_count": 14,
   "metadata": {},
   "outputs": [],
   "source": [
    "path = Path(\"runs/Sigmoid/2D3M_train/ppo/selector\")\n",
    "fnames = list(path.glob(\"**/train.log\"))\n",
    "for fname in fnames:\n",
    "    agent_name = fname.parent / \"agent.pkl.lz4\"\n",
    "    if not agent_name.is_file():\n",
    "        print(agent_name)"
   ]
  }
 ],
 "metadata": {
  "kernelspec": {
   "display_name": "Python 3",
   "language": "python",
   "name": "python3"
  },
  "language_info": {
   "codemirror_mode": {
    "name": "ipython",
    "version": 3
   },
   "file_extension": ".py",
   "mimetype": "text/x-python",
   "name": "python",
   "nbconvert_exporter": "python",
   "pygments_lexer": "ipython3",
   "version": "3.11.6"
  }
 },
 "nbformat": 4,
 "nbformat_minor": 2
}
