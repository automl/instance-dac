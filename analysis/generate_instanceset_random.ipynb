{
 "cells": [
  {
   "cell_type": "markdown",
   "metadata": {},
   "source": [
    "# Randomly Sample Instance Set\n",
    "Run this script once for each benchmark and commit the resulting instance set config files.\n",
    "The fraction of subsampling should be similar to the number of instances selected by SELECTOR for lower thresholds.\n",
    "Normally, samples 10% of the instance sets. "
   ]
  },
  {
   "cell_type": "code",
   "execution_count": 3,
   "metadata": {},
   "outputs": [
    {
     "name": "stdout",
     "output_type": "stream",
     "text": [
      "Size of new instance set: 30\n",
      "Wrote ../instance_dac/configs/inst/sigmoid/random/2D3M_train_0.1_234235.yaml\n",
      "Size of new instance set: 30\n",
      "Wrote ../instance_dac/configs/inst/sigmoid/random/2D3M_train_0.1_43534.yaml\n",
      "Size of new instance set: 30\n",
      "Wrote ../instance_dac/configs/inst/sigmoid/random/2D3M_train_0.1_411.yaml\n",
      "Size of new instance set: 30\n",
      "Wrote ../instance_dac/configs/inst/sigmoid/random/2D3M_train_0.1_799.yaml\n",
      "Size of new instance set: 30\n",
      "Wrote ../instance_dac/configs/inst/sigmoid/random/2D3M_train_0.1_32544.yaml\n"
     ]
    }
   ],
   "source": [
    "from pathlib import Path\n",
    "from rich import print as printr\n",
    "from omegaconf import OmegaConf\n",
    "from hydra.utils import instantiate\n",
    "import numpy as np\n",
    "from dacbench.abstract_benchmark import AbstractBenchmark\n",
    "\n",
    "##################### DEFINE BENCHMARK AND INSTANCE SET\n",
    "benchmark_cfg_fn = \"../instance_dac/configs/benchmark/sigmoid.yaml\"\n",
    "instance_set_cfg_fn = \"../instance_dac/configs/inst/sigmoid/2D3M_train.yaml\"\n",
    "\n",
    "# Subsample\n",
    "seeds = [234235, 43534, 411, 799, 32544]\n",
    "fraction = 0.1\n",
    "#####################\n",
    "\n",
    "# Instantiate benchmark and read instance set\n",
    "bench_cfg = OmegaConf.load(benchmark_cfg_fn)\n",
    "iset_cfg = OmegaConf.load(instance_set_cfg_fn)\n",
    "bench_cfg = OmegaConf.merge(bench_cfg, iset_cfg)\n",
    "benchmark = instantiate(bench_cfg.benchmark)\n",
    "\n",
    "def random_sample_instance_set(benchmark: AbstractBenchmark, seed: int, fraction: float) -> dict:\n",
    "    benchmark.read_instance_set()\n",
    "    instance_set = benchmark.config[\"instance_set\"]\n",
    "    rng = np.random.default_rng(seed=seed)\n",
    "    n_instances = len(instance_set)\n",
    "    ids = rng.choice(list(instance_set.keys()), size=int(fraction * n_instances), replace=False)\n",
    "    ids = [int(k) for k in ids]\n",
    "    instance_set_new = {k: instance_set[k] for k in ids}\n",
    "    return instance_set_new\n",
    "\n",
    "for seed in seeds:\n",
    "    instance_set_new = random_sample_instance_set(benchmark=benchmark, seed=seed, fraction=fraction)\n",
    "\n",
    "    print(\"Size of new instance set:\", len(instance_set_new))\n",
    "\n",
    "    instance_set_id = iset_cfg.instance_set_id + f\"_{fraction}_{seed}\"\n",
    "\n",
    "    cfg = OmegaConf.create({\n",
    "        \"instance_set_id\": instance_set_id,\n",
    "        \"instance_set_selection\": \"random\",\n",
    "        \"selector\": {\n",
    "            \"seed\": seed,\n",
    "            \"fraction\": fraction,\n",
    "        },\n",
    "        \"source_instance_set_id\": iset_cfg.instance_set_id,\n",
    "        \"benchmark\": {\n",
    "            \"config\": {\n",
    "                \"instance_set\": instance_set_new\n",
    "            }\n",
    "        },\n",
    "        \n",
    "    })\n",
    "    yaml_str = OmegaConf.to_yaml(cfg)\n",
    "    yaml_str = f\"# @package _global_\\n\\n{yaml_str}\"\n",
    "\n",
    "    target_fn = Path(\"../instance_dac/configs/inst/\") / bench_cfg.benchmark_id.lower() / \"random\" / f\"{instance_set_id}.yaml\"\n",
    "    target_fn.parent.mkdir(exist_ok=True, parents=True)\n",
    "    print(\"Wrote\", target_fn)\n",
    "    target_fn.write_text(yaml_str)"
   ]
  },
  {
   "cell_type": "code",
   "execution_count": 4,
   "metadata": {},
   "outputs": [
    {
     "data": {
      "text/html": [
       "<pre style=\"white-space:pre;overflow-x:auto;line-height:normal;font-family:Menlo,'DejaVu Sans Mono',consolas,'Courier New',monospace\"><span style=\"color: #008080; text-decoration-color: #008080; font-weight: bold\">30</span>\n",
       "</pre>\n"
      ],
      "text/plain": [
       "\u001b[1;36m30\u001b[0m\n"
      ]
     },
     "metadata": {},
     "output_type": "display_data"
    },
    {
     "data": {
      "text/html": [
       "<pre style=\"white-space:pre;overflow-x:auto;line-height:normal;font-family:Menlo,'DejaVu Sans Mono',consolas,'Courier New',monospace\"><span style=\"font-weight: bold\">{</span><span style=\"color: #008080; text-decoration-color: #008080; font-weight: bold\">299</span>: <span style=\"font-weight: bold\">[</span><span style=\"color: #008080; text-decoration-color: #008080; font-weight: bold\">4.815429229461179</span>, <span style=\"color: #008080; text-decoration-color: #008080; font-weight: bold\">2.7816176276037967</span>, <span style=\"color: #008080; text-decoration-color: #008080; font-weight: bold\">4.439819850877722</span>, <span style=\"color: #008080; text-decoration-color: #008080; font-weight: bold\">4.005233707279633</span><span style=\"font-weight: bold\">]</span>, <span style=\"color: #008080; text-decoration-color: #008080; font-weight: bold\">287</span>: <span style=\"font-weight: bold\">[</span><span style=\"color: #008080; text-decoration-color: #008080; font-weight: bold\">5.029538623940392</span>, \n",
       "<span style=\"color: #008080; text-decoration-color: #008080; font-weight: bold\">3.9300996226599487</span>, <span style=\"color: #008080; text-decoration-color: #008080; font-weight: bold\">2.5009560669928828</span>, <span style=\"color: #008080; text-decoration-color: #008080; font-weight: bold\">3.517955235435612</span><span style=\"font-weight: bold\">]</span>, <span style=\"color: #008080; text-decoration-color: #008080; font-weight: bold\">32</span>: <span style=\"font-weight: bold\">[</span><span style=\"color: #008080; text-decoration-color: #008080; font-weight: bold\">2.6935319003072093</span>, <span style=\"color: #008080; text-decoration-color: #008080; font-weight: bold\">3.379288831385219</span>, \n",
       "<span style=\"color: #008080; text-decoration-color: #008080; font-weight: bold\">8.64088234978544</span>, <span style=\"color: #008080; text-decoration-color: #008080; font-weight: bold\">-1.4008456321176168</span><span style=\"font-weight: bold\">]</span>, <span style=\"color: #008080; text-decoration-color: #008080; font-weight: bold\">194</span>: <span style=\"font-weight: bold\">[</span><span style=\"color: #008080; text-decoration-color: #008080; font-weight: bold\">5.857836784234157</span>, <span style=\"color: #008080; text-decoration-color: #008080; font-weight: bold\">1.0751211003457897</span>, <span style=\"color: #008080; text-decoration-color: #008080; font-weight: bold\">2.212130908894809</span>, \n",
       "<span style=\"color: #008080; text-decoration-color: #008080; font-weight: bold\">-0.7317262284296113</span><span style=\"font-weight: bold\">]</span>, <span style=\"color: #008080; text-decoration-color: #008080; font-weight: bold\">202</span>: <span style=\"font-weight: bold\">[</span><span style=\"color: #008080; text-decoration-color: #008080; font-weight: bold\">0.3796041578885978</span>, <span style=\"color: #008080; text-decoration-color: #008080; font-weight: bold\">2.381906558937664</span>, <span style=\"color: #008080; text-decoration-color: #008080; font-weight: bold\">1.8255417461780605</span>, <span style=\"color: #008080; text-decoration-color: #008080; font-weight: bold\">0.9174862767187082</span><span style=\"font-weight: bold\">]</span>, <span style=\"color: #008080; text-decoration-color: #008080; font-weight: bold\">295</span>: \n",
       "<span style=\"font-weight: bold\">[</span><span style=\"color: #008080; text-decoration-color: #008080; font-weight: bold\">2.814519854641466</span>, <span style=\"color: #008080; text-decoration-color: #008080; font-weight: bold\">6.728191140435256</span>, <span style=\"color: #008080; text-decoration-color: #008080; font-weight: bold\">-1.7961905384813868</span>, <span style=\"color: #008080; text-decoration-color: #008080; font-weight: bold\">3.2447303356112576</span><span style=\"font-weight: bold\">]</span>, <span style=\"color: #008080; text-decoration-color: #008080; font-weight: bold\">237</span>: <span style=\"font-weight: bold\">[</span><span style=\"color: #008080; text-decoration-color: #008080; font-weight: bold\">1.3603274108658878</span>, \n",
       "<span style=\"color: #008080; text-decoration-color: #008080; font-weight: bold\">4.291495475336782</span>, <span style=\"color: #008080; text-decoration-color: #008080; font-weight: bold\">0.956284673197936</span>, <span style=\"color: #008080; text-decoration-color: #008080; font-weight: bold\">5.441808301962239</span><span style=\"font-weight: bold\">]</span>, <span style=\"color: #008080; text-decoration-color: #008080; font-weight: bold\">98</span>: <span style=\"font-weight: bold\">[</span><span style=\"color: #008080; text-decoration-color: #008080; font-weight: bold\">4.797970213475937</span>, <span style=\"color: #008080; text-decoration-color: #008080; font-weight: bold\">0.2494571060236206</span>, \n",
       "<span style=\"color: #008080; text-decoration-color: #008080; font-weight: bold\">-3.2402046096668595</span>, <span style=\"color: #008080; text-decoration-color: #008080; font-weight: bold\">6.370806523830282</span><span style=\"font-weight: bold\">]</span>, <span style=\"color: #008080; text-decoration-color: #008080; font-weight: bold\">169</span>: <span style=\"font-weight: bold\">[</span><span style=\"color: #008080; text-decoration-color: #008080; font-weight: bold\">7.672872999001572</span>, <span style=\"color: #008080; text-decoration-color: #008080; font-weight: bold\">4.990377192036222</span>, <span style=\"color: #008080; text-decoration-color: #008080; font-weight: bold\">6.024183185414975</span>, \n",
       "<span style=\"color: #008080; text-decoration-color: #008080; font-weight: bold\">-1.9379220225563736</span><span style=\"font-weight: bold\">]</span>, <span style=\"color: #008080; text-decoration-color: #008080; font-weight: bold\">119</span>: <span style=\"font-weight: bold\">[</span><span style=\"color: #008080; text-decoration-color: #008080; font-weight: bold\">1.8212151723691101</span>, <span style=\"color: #008080; text-decoration-color: #008080; font-weight: bold\">1.4780391432769244</span>, <span style=\"color: #008080; text-decoration-color: #008080; font-weight: bold\">4.0685581802252315</span>, <span style=\"color: #008080; text-decoration-color: #008080; font-weight: bold\">4.362072015355503</span><span style=\"font-weight: bold\">]</span>, <span style=\"color: #008080; text-decoration-color: #008080; font-weight: bold\">270</span>: \n",
       "<span style=\"font-weight: bold\">[</span><span style=\"color: #008080; text-decoration-color: #008080; font-weight: bold\">1.924026836405</span>, <span style=\"color: #008080; text-decoration-color: #008080; font-weight: bold\">2.7580682605742703</span>, <span style=\"color: #008080; text-decoration-color: #008080; font-weight: bold\">1.646214083209576</span>, <span style=\"color: #008080; text-decoration-color: #008080; font-weight: bold\">1.996125161663582</span><span style=\"font-weight: bold\">]</span>, <span style=\"color: #008080; text-decoration-color: #008080; font-weight: bold\">64</span>: <span style=\"font-weight: bold\">[</span><span style=\"color: #008080; text-decoration-color: #008080; font-weight: bold\">5.177123079509854</span>, \n",
       "<span style=\"color: #008080; text-decoration-color: #008080; font-weight: bold\">1.7353960522471783</span>, <span style=\"color: #008080; text-decoration-color: #008080; font-weight: bold\">-0.27463776160156206</span>, <span style=\"color: #008080; text-decoration-color: #008080; font-weight: bold\">0.5863207853372709</span><span style=\"font-weight: bold\">]</span>, <span style=\"color: #008080; text-decoration-color: #008080; font-weight: bold\">130</span>: <span style=\"font-weight: bold\">[</span><span style=\"color: #008080; text-decoration-color: #008080; font-weight: bold\">4.064244656792983</span>, <span style=\"color: #008080; text-decoration-color: #008080; font-weight: bold\">4.7716813057767125</span>, \n",
       "<span style=\"color: #008080; text-decoration-color: #008080; font-weight: bold\">3.078758751578766</span>, <span style=\"color: #008080; text-decoration-color: #008080; font-weight: bold\">1.9557658112159155</span><span style=\"font-weight: bold\">]</span>, <span style=\"color: #008080; text-decoration-color: #008080; font-weight: bold\">89</span>: <span style=\"font-weight: bold\">[</span><span style=\"color: #008080; text-decoration-color: #008080; font-weight: bold\">2.0780627610286864</span>, <span style=\"color: #008080; text-decoration-color: #008080; font-weight: bold\">1.8004680027063937</span>, <span style=\"color: #008080; text-decoration-color: #008080; font-weight: bold\">4.480202899003775</span>, \n",
       "<span style=\"color: #008080; text-decoration-color: #008080; font-weight: bold\">3.9514400400316814</span><span style=\"font-weight: bold\">]</span>, <span style=\"color: #008080; text-decoration-color: #008080; font-weight: bold\">84</span>: <span style=\"font-weight: bold\">[</span><span style=\"color: #008080; text-decoration-color: #008080; font-weight: bold\">0.4268809753789182</span>, <span style=\"color: #008080; text-decoration-color: #008080; font-weight: bold\">2.2638888977935814</span>, <span style=\"color: #008080; text-decoration-color: #008080; font-weight: bold\">1.4154376692990676</span>, <span style=\"color: #008080; text-decoration-color: #008080; font-weight: bold\">-1.3976092909669209</span><span style=\"font-weight: bold\">]</span>, <span style=\"color: #008080; text-decoration-color: #008080; font-weight: bold\">2</span>: \n",
       "<span style=\"font-weight: bold\">[</span><span style=\"color: #008080; text-decoration-color: #008080; font-weight: bold\">5.410536230957515</span>, <span style=\"color: #008080; text-decoration-color: #008080; font-weight: bold\">5.700091608324946</span>, <span style=\"color: #008080; text-decoration-color: #008080; font-weight: bold\">-5.3540400976249165</span>, <span style=\"color: #008080; text-decoration-color: #008080; font-weight: bold\">2.76787147719077</span><span style=\"font-weight: bold\">]</span>, <span style=\"color: #008080; text-decoration-color: #008080; font-weight: bold\">43</span>: <span style=\"font-weight: bold\">[</span><span style=\"color: #008080; text-decoration-color: #008080; font-weight: bold\">4.905227259654491</span>, \n",
       "<span style=\"color: #008080; text-decoration-color: #008080; font-weight: bold\">3.104873656179629</span>, <span style=\"color: #008080; text-decoration-color: #008080; font-weight: bold\">3.560111104441587</span>, <span style=\"color: #008080; text-decoration-color: #008080; font-weight: bold\">3.1936940390756687</span><span style=\"font-weight: bold\">]</span>, <span style=\"color: #008080; text-decoration-color: #008080; font-weight: bold\">42</span>: <span style=\"font-weight: bold\">[</span><span style=\"color: #008080; text-decoration-color: #008080; font-weight: bold\">3.4631061502388762</span>, <span style=\"color: #008080; text-decoration-color: #008080; font-weight: bold\">3.264221200904144</span>, \n",
       "<span style=\"color: #008080; text-decoration-color: #008080; font-weight: bold\">1.0810847412013014</span>, <span style=\"color: #008080; text-decoration-color: #008080; font-weight: bold\">1.4636998912875985</span><span style=\"font-weight: bold\">]</span>, <span style=\"color: #008080; text-decoration-color: #008080; font-weight: bold\">161</span>: <span style=\"font-weight: bold\">[</span><span style=\"color: #008080; text-decoration-color: #008080; font-weight: bold\">1.723824463909902</span>, <span style=\"color: #008080; text-decoration-color: #008080; font-weight: bold\">3.255052055298451</span>, <span style=\"color: #008080; text-decoration-color: #008080; font-weight: bold\">8.673977983130346</span>, \n",
       "<span style=\"color: #008080; text-decoration-color: #008080; font-weight: bold\">0.7776783896857395</span><span style=\"font-weight: bold\">]</span>, <span style=\"color: #008080; text-decoration-color: #008080; font-weight: bold\">90</span>: <span style=\"font-weight: bold\">[</span><span style=\"color: #008080; text-decoration-color: #008080; font-weight: bold\">3.441776026766</span>, <span style=\"color: #008080; text-decoration-color: #008080; font-weight: bold\">4.310033415306151</span>, <span style=\"color: #008080; text-decoration-color: #008080; font-weight: bold\">-4.3548487637334885</span>, <span style=\"color: #008080; text-decoration-color: #008080; font-weight: bold\">-0.6080528997473085</span><span style=\"font-weight: bold\">]</span>, <span style=\"color: #008080; text-decoration-color: #008080; font-weight: bold\">282</span>: \n",
       "<span style=\"font-weight: bold\">[</span><span style=\"color: #008080; text-decoration-color: #008080; font-weight: bold\">0.5822748992498026</span>, <span style=\"color: #008080; text-decoration-color: #008080; font-weight: bold\">5.512159870662867</span>, <span style=\"color: #008080; text-decoration-color: #008080; font-weight: bold\">-1.168948223279786</span>, <span style=\"color: #008080; text-decoration-color: #008080; font-weight: bold\">7.149733425876296</span><span style=\"font-weight: bold\">]</span>, <span style=\"color: #008080; text-decoration-color: #008080; font-weight: bold\">77</span>: <span style=\"font-weight: bold\">[</span><span style=\"color: #008080; text-decoration-color: #008080; font-weight: bold\">4.607976014008139</span>, \n",
       "<span style=\"color: #008080; text-decoration-color: #008080; font-weight: bold\">-0.23720035078244006</span>, <span style=\"color: #008080; text-decoration-color: #008080; font-weight: bold\">3.209175931615208</span>, <span style=\"color: #008080; text-decoration-color: #008080; font-weight: bold\">7.41920537379076</span><span style=\"font-weight: bold\">]</span>, <span style=\"color: #008080; text-decoration-color: #008080; font-weight: bold\">216</span>: <span style=\"font-weight: bold\">[</span><span style=\"color: #008080; text-decoration-color: #008080; font-weight: bold\">5.281477624730198</span>, <span style=\"color: #008080; text-decoration-color: #008080; font-weight: bold\">4.042676458366114</span>, \n",
       "<span style=\"color: #008080; text-decoration-color: #008080; font-weight: bold\">5.714603736550742</span>, <span style=\"color: #008080; text-decoration-color: #008080; font-weight: bold\">-1.8536927899278695</span><span style=\"font-weight: bold\">]</span>, <span style=\"color: #008080; text-decoration-color: #008080; font-weight: bold\">279</span>: <span style=\"font-weight: bold\">[</span><span style=\"color: #008080; text-decoration-color: #008080; font-weight: bold\">3.5973577950453532</span>, <span style=\"color: #008080; text-decoration-color: #008080; font-weight: bold\">5.211014816491561</span>, <span style=\"color: #008080; text-decoration-color: #008080; font-weight: bold\">-0.44196741114150484</span>, \n",
       "<span style=\"color: #008080; text-decoration-color: #008080; font-weight: bold\">0.5687055142869353</span><span style=\"font-weight: bold\">]</span>, <span style=\"color: #008080; text-decoration-color: #008080; font-weight: bold\">80</span>: <span style=\"font-weight: bold\">[</span><span style=\"color: #008080; text-decoration-color: #008080; font-weight: bold\">6.827823178794205</span>, <span style=\"color: #008080; text-decoration-color: #008080; font-weight: bold\">8.727401615002458</span>, <span style=\"color: #008080; text-decoration-color: #008080; font-weight: bold\">1.5530047463846481</span>, <span style=\"color: #008080; text-decoration-color: #008080; font-weight: bold\">-1.9015760884779742</span><span style=\"font-weight: bold\">]</span>, <span style=\"color: #008080; text-decoration-color: #008080; font-weight: bold\">93</span>: \n",
       "<span style=\"font-weight: bold\">[</span><span style=\"color: #008080; text-decoration-color: #008080; font-weight: bold\">6.085867629073292</span>, <span style=\"color: #008080; text-decoration-color: #008080; font-weight: bold\">6.192285512290833</span>, <span style=\"color: #008080; text-decoration-color: #008080; font-weight: bold\">1.3613578420758399</span>, <span style=\"color: #008080; text-decoration-color: #008080; font-weight: bold\">11.03131168513633</span><span style=\"font-weight: bold\">]</span>, <span style=\"color: #008080; text-decoration-color: #008080; font-weight: bold\">203</span>: <span style=\"font-weight: bold\">[</span><span style=\"color: #008080; text-decoration-color: #008080; font-weight: bold\">2.7693020222718907</span>, \n",
       "<span style=\"color: #008080; text-decoration-color: #008080; font-weight: bold\">3.2681075670629283</span>, <span style=\"color: #008080; text-decoration-color: #008080; font-weight: bold\">1.8703226414448288</span>, <span style=\"color: #008080; text-decoration-color: #008080; font-weight: bold\">3.9794167745837434</span><span style=\"font-weight: bold\">]</span>, <span style=\"color: #008080; text-decoration-color: #008080; font-weight: bold\">67</span>: <span style=\"font-weight: bold\">[</span><span style=\"color: #008080; text-decoration-color: #008080; font-weight: bold\">3.190730385781652</span>, <span style=\"color: #008080; text-decoration-color: #008080; font-weight: bold\">6.659409454273963</span>, \n",
       "<span style=\"color: #008080; text-decoration-color: #008080; font-weight: bold\">1.1217798512803276</span>, <span style=\"color: #008080; text-decoration-color: #008080; font-weight: bold\">2.7437717740148555</span><span style=\"font-weight: bold\">]</span>, <span style=\"color: #008080; text-decoration-color: #008080; font-weight: bold\">87</span>: <span style=\"font-weight: bold\">[</span><span style=\"color: #008080; text-decoration-color: #008080; font-weight: bold\">2.9425049950565123</span>, <span style=\"color: #008080; text-decoration-color: #008080; font-weight: bold\">5.7606383061778015</span>, <span style=\"color: #008080; text-decoration-color: #008080; font-weight: bold\">1.6790460570929602</span>, \n",
       "<span style=\"color: #008080; text-decoration-color: #008080; font-weight: bold\">0.28667876559338556</span><span style=\"font-weight: bold\">]</span>, <span style=\"color: #008080; text-decoration-color: #008080; font-weight: bold\">149</span>: <span style=\"font-weight: bold\">[</span><span style=\"color: #008080; text-decoration-color: #008080; font-weight: bold\">5.406767910709146</span>, <span style=\"color: #008080; text-decoration-color: #008080; font-weight: bold\">4.854325379155132</span>, <span style=\"color: #008080; text-decoration-color: #008080; font-weight: bold\">-6.404191877907916</span>, <span style=\"color: #008080; text-decoration-color: #008080; font-weight: bold\">0.3611679915156436</span><span style=\"font-weight: bold\">]}</span>\n",
       "</pre>\n"
      ],
      "text/plain": [
       "\u001b[1m{\u001b[0m\u001b[1;36m299\u001b[0m: \u001b[1m[\u001b[0m\u001b[1;36m4.815429229461179\u001b[0m, \u001b[1;36m2.7816176276037967\u001b[0m, \u001b[1;36m4.439819850877722\u001b[0m, \u001b[1;36m4.005233707279633\u001b[0m\u001b[1m]\u001b[0m, \u001b[1;36m287\u001b[0m: \u001b[1m[\u001b[0m\u001b[1;36m5.029538623940392\u001b[0m, \n",
       "\u001b[1;36m3.9300996226599487\u001b[0m, \u001b[1;36m2.5009560669928828\u001b[0m, \u001b[1;36m3.517955235435612\u001b[0m\u001b[1m]\u001b[0m, \u001b[1;36m32\u001b[0m: \u001b[1m[\u001b[0m\u001b[1;36m2.6935319003072093\u001b[0m, \u001b[1;36m3.379288831385219\u001b[0m, \n",
       "\u001b[1;36m8.64088234978544\u001b[0m, \u001b[1;36m-1.4008456321176168\u001b[0m\u001b[1m]\u001b[0m, \u001b[1;36m194\u001b[0m: \u001b[1m[\u001b[0m\u001b[1;36m5.857836784234157\u001b[0m, \u001b[1;36m1.0751211003457897\u001b[0m, \u001b[1;36m2.212130908894809\u001b[0m, \n",
       "\u001b[1;36m-0.7317262284296113\u001b[0m\u001b[1m]\u001b[0m, \u001b[1;36m202\u001b[0m: \u001b[1m[\u001b[0m\u001b[1;36m0.3796041578885978\u001b[0m, \u001b[1;36m2.381906558937664\u001b[0m, \u001b[1;36m1.8255417461780605\u001b[0m, \u001b[1;36m0.9174862767187082\u001b[0m\u001b[1m]\u001b[0m, \u001b[1;36m295\u001b[0m: \n",
       "\u001b[1m[\u001b[0m\u001b[1;36m2.814519854641466\u001b[0m, \u001b[1;36m6.728191140435256\u001b[0m, \u001b[1;36m-1.7961905384813868\u001b[0m, \u001b[1;36m3.2447303356112576\u001b[0m\u001b[1m]\u001b[0m, \u001b[1;36m237\u001b[0m: \u001b[1m[\u001b[0m\u001b[1;36m1.3603274108658878\u001b[0m, \n",
       "\u001b[1;36m4.291495475336782\u001b[0m, \u001b[1;36m0.956284673197936\u001b[0m, \u001b[1;36m5.441808301962239\u001b[0m\u001b[1m]\u001b[0m, \u001b[1;36m98\u001b[0m: \u001b[1m[\u001b[0m\u001b[1;36m4.797970213475937\u001b[0m, \u001b[1;36m0.2494571060236206\u001b[0m, \n",
       "\u001b[1;36m-3.2402046096668595\u001b[0m, \u001b[1;36m6.370806523830282\u001b[0m\u001b[1m]\u001b[0m, \u001b[1;36m169\u001b[0m: \u001b[1m[\u001b[0m\u001b[1;36m7.672872999001572\u001b[0m, \u001b[1;36m4.990377192036222\u001b[0m, \u001b[1;36m6.024183185414975\u001b[0m, \n",
       "\u001b[1;36m-1.9379220225563736\u001b[0m\u001b[1m]\u001b[0m, \u001b[1;36m119\u001b[0m: \u001b[1m[\u001b[0m\u001b[1;36m1.8212151723691101\u001b[0m, \u001b[1;36m1.4780391432769244\u001b[0m, \u001b[1;36m4.0685581802252315\u001b[0m, \u001b[1;36m4.362072015355503\u001b[0m\u001b[1m]\u001b[0m, \u001b[1;36m270\u001b[0m: \n",
       "\u001b[1m[\u001b[0m\u001b[1;36m1.924026836405\u001b[0m, \u001b[1;36m2.7580682605742703\u001b[0m, \u001b[1;36m1.646214083209576\u001b[0m, \u001b[1;36m1.996125161663582\u001b[0m\u001b[1m]\u001b[0m, \u001b[1;36m64\u001b[0m: \u001b[1m[\u001b[0m\u001b[1;36m5.177123079509854\u001b[0m, \n",
       "\u001b[1;36m1.7353960522471783\u001b[0m, \u001b[1;36m-0.27463776160156206\u001b[0m, \u001b[1;36m0.5863207853372709\u001b[0m\u001b[1m]\u001b[0m, \u001b[1;36m130\u001b[0m: \u001b[1m[\u001b[0m\u001b[1;36m4.064244656792983\u001b[0m, \u001b[1;36m4.7716813057767125\u001b[0m, \n",
       "\u001b[1;36m3.078758751578766\u001b[0m, \u001b[1;36m1.9557658112159155\u001b[0m\u001b[1m]\u001b[0m, \u001b[1;36m89\u001b[0m: \u001b[1m[\u001b[0m\u001b[1;36m2.0780627610286864\u001b[0m, \u001b[1;36m1.8004680027063937\u001b[0m, \u001b[1;36m4.480202899003775\u001b[0m, \n",
       "\u001b[1;36m3.9514400400316814\u001b[0m\u001b[1m]\u001b[0m, \u001b[1;36m84\u001b[0m: \u001b[1m[\u001b[0m\u001b[1;36m0.4268809753789182\u001b[0m, \u001b[1;36m2.2638888977935814\u001b[0m, \u001b[1;36m1.4154376692990676\u001b[0m, \u001b[1;36m-1.3976092909669209\u001b[0m\u001b[1m]\u001b[0m, \u001b[1;36m2\u001b[0m: \n",
       "\u001b[1m[\u001b[0m\u001b[1;36m5.410536230957515\u001b[0m, \u001b[1;36m5.700091608324946\u001b[0m, \u001b[1;36m-5.3540400976249165\u001b[0m, \u001b[1;36m2.76787147719077\u001b[0m\u001b[1m]\u001b[0m, \u001b[1;36m43\u001b[0m: \u001b[1m[\u001b[0m\u001b[1;36m4.905227259654491\u001b[0m, \n",
       "\u001b[1;36m3.104873656179629\u001b[0m, \u001b[1;36m3.560111104441587\u001b[0m, \u001b[1;36m3.1936940390756687\u001b[0m\u001b[1m]\u001b[0m, \u001b[1;36m42\u001b[0m: \u001b[1m[\u001b[0m\u001b[1;36m3.4631061502388762\u001b[0m, \u001b[1;36m3.264221200904144\u001b[0m, \n",
       "\u001b[1;36m1.0810847412013014\u001b[0m, \u001b[1;36m1.4636998912875985\u001b[0m\u001b[1m]\u001b[0m, \u001b[1;36m161\u001b[0m: \u001b[1m[\u001b[0m\u001b[1;36m1.723824463909902\u001b[0m, \u001b[1;36m3.255052055298451\u001b[0m, \u001b[1;36m8.673977983130346\u001b[0m, \n",
       "\u001b[1;36m0.7776783896857395\u001b[0m\u001b[1m]\u001b[0m, \u001b[1;36m90\u001b[0m: \u001b[1m[\u001b[0m\u001b[1;36m3.441776026766\u001b[0m, \u001b[1;36m4.310033415306151\u001b[0m, \u001b[1;36m-4.3548487637334885\u001b[0m, \u001b[1;36m-0.6080528997473085\u001b[0m\u001b[1m]\u001b[0m, \u001b[1;36m282\u001b[0m: \n",
       "\u001b[1m[\u001b[0m\u001b[1;36m0.5822748992498026\u001b[0m, \u001b[1;36m5.512159870662867\u001b[0m, \u001b[1;36m-1.168948223279786\u001b[0m, \u001b[1;36m7.149733425876296\u001b[0m\u001b[1m]\u001b[0m, \u001b[1;36m77\u001b[0m: \u001b[1m[\u001b[0m\u001b[1;36m4.607976014008139\u001b[0m, \n",
       "\u001b[1;36m-0.23720035078244006\u001b[0m, \u001b[1;36m3.209175931615208\u001b[0m, \u001b[1;36m7.41920537379076\u001b[0m\u001b[1m]\u001b[0m, \u001b[1;36m216\u001b[0m: \u001b[1m[\u001b[0m\u001b[1;36m5.281477624730198\u001b[0m, \u001b[1;36m4.042676458366114\u001b[0m, \n",
       "\u001b[1;36m5.714603736550742\u001b[0m, \u001b[1;36m-1.8536927899278695\u001b[0m\u001b[1m]\u001b[0m, \u001b[1;36m279\u001b[0m: \u001b[1m[\u001b[0m\u001b[1;36m3.5973577950453532\u001b[0m, \u001b[1;36m5.211014816491561\u001b[0m, \u001b[1;36m-0.44196741114150484\u001b[0m, \n",
       "\u001b[1;36m0.5687055142869353\u001b[0m\u001b[1m]\u001b[0m, \u001b[1;36m80\u001b[0m: \u001b[1m[\u001b[0m\u001b[1;36m6.827823178794205\u001b[0m, \u001b[1;36m8.727401615002458\u001b[0m, \u001b[1;36m1.5530047463846481\u001b[0m, \u001b[1;36m-1.9015760884779742\u001b[0m\u001b[1m]\u001b[0m, \u001b[1;36m93\u001b[0m: \n",
       "\u001b[1m[\u001b[0m\u001b[1;36m6.085867629073292\u001b[0m, \u001b[1;36m6.192285512290833\u001b[0m, \u001b[1;36m1.3613578420758399\u001b[0m, \u001b[1;36m11.03131168513633\u001b[0m\u001b[1m]\u001b[0m, \u001b[1;36m203\u001b[0m: \u001b[1m[\u001b[0m\u001b[1;36m2.7693020222718907\u001b[0m, \n",
       "\u001b[1;36m3.2681075670629283\u001b[0m, \u001b[1;36m1.8703226414448288\u001b[0m, \u001b[1;36m3.9794167745837434\u001b[0m\u001b[1m]\u001b[0m, \u001b[1;36m67\u001b[0m: \u001b[1m[\u001b[0m\u001b[1;36m3.190730385781652\u001b[0m, \u001b[1;36m6.659409454273963\u001b[0m, \n",
       "\u001b[1;36m1.1217798512803276\u001b[0m, \u001b[1;36m2.7437717740148555\u001b[0m\u001b[1m]\u001b[0m, \u001b[1;36m87\u001b[0m: \u001b[1m[\u001b[0m\u001b[1;36m2.9425049950565123\u001b[0m, \u001b[1;36m5.7606383061778015\u001b[0m, \u001b[1;36m1.6790460570929602\u001b[0m, \n",
       "\u001b[1;36m0.28667876559338556\u001b[0m\u001b[1m]\u001b[0m, \u001b[1;36m149\u001b[0m: \u001b[1m[\u001b[0m\u001b[1;36m5.406767910709146\u001b[0m, \u001b[1;36m4.854325379155132\u001b[0m, \u001b[1;36m-6.404191877907916\u001b[0m, \u001b[1;36m0.3611679915156436\u001b[0m\u001b[1m]\u001b[0m\u001b[1m}\u001b[0m\n"
      ]
     },
     "metadata": {},
     "output_type": "display_data"
    }
   ],
   "source": [
    "# Check if it works:)\n",
    "cfg = OmegaConf.load(target_fn)\n",
    "bcfg =  OmegaConf.load(benchmark_cfg_fn)\n",
    "cfg = OmegaConf.merge(bcfg, cfg)\n",
    "benchmark = instantiate(cfg.benchmark)\n",
    "env = benchmark.get_environment()\n",
    "printr(len(env.instance_set))\n",
    "printr(env.instance_set)"
   ]
  }
 ],
 "metadata": {
  "kernelspec": {
   "display_name": "Python 3",
   "language": "python",
   "name": "python3"
  },
  "language_info": {
   "codemirror_mode": {
    "name": "ipython",
    "version": 3
   },
   "file_extension": ".py",
   "mimetype": "text/x-python",
   "name": "python",
   "nbconvert_exporter": "python",
   "pygments_lexer": "ipython3",
   "version": "3.11.4"
  }
 },
 "nbformat": 4,
 "nbformat_minor": 2
}
