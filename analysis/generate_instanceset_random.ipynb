{
 "cells": [
  {
   "cell_type": "markdown",
   "metadata": {},
   "source": [
    "# Randomly Sample Instance Set\n",
    "Run this script once for each benchmark and commit the resulting instance set config files.\n",
    "The fraction of subsampling should be similar to the number of instances selected by SELECTOR for lower thresholds.\n",
    "Normally, samples 10% of the instance sets. "
   ]
  },
  {
   "cell_type": "code",
   "execution_count": 21,
   "metadata": {},
   "outputs": [
    {
     "name": "stdout",
     "output_type": "stream",
     "text": [
      "Size of new instance set: 4\n",
      "Wrote ../instance_dac/configs/inst/cmaes/random/seplow_train_0.1_234235.yaml\n",
      "Size of new instance set: 4\n",
      "Wrote ../instance_dac/configs/inst/cmaes/random/seplow_train_0.1_43534.yaml\n",
      "Size of new instance set: 4\n",
      "Wrote ../instance_dac/configs/inst/cmaes/random/seplow_train_0.1_411.yaml\n",
      "Size of new instance set: 4\n",
      "Wrote ../instance_dac/configs/inst/cmaes/random/seplow_train_0.1_799.yaml\n",
      "Size of new instance set: 4\n",
      "Wrote ../instance_dac/configs/inst/cmaes/random/seplow_train_0.1_32544.yaml\n"
     ]
    }
   ],
   "source": [
    "from pathlib import Path\n",
    "from rich import print as printr\n",
    "from omegaconf import OmegaConf\n",
    "from hydra.utils import instantiate\n",
    "import numpy as np\n",
    "from dacbench.abstract_benchmark import AbstractBenchmark\n",
    "\n",
    "##################### DEFINE BENCHMARK AND INSTANCE SET\n",
    "# Sigmoid\n",
    "benchmark_cfg_fn = \"../instance_dac/configs/benchmark/sigmoid.yaml\"\n",
    "instance_set_cfg_fn = \"../instance_dac/configs/inst/sigmoid/2D3M_train.yaml\"\n",
    "\n",
    "# CMA-ES\n",
    "benchmark_cfg_fn = \"../instance_dac/configs/benchmark/cmaes.yaml\"\n",
    "instance_set_cfg_fn = \"../instance_dac/configs/inst/cmaes/default.yaml\"\n",
    "\n",
    "# Subsample\n",
    "seeds = [234235, 43534, 411, 799, 32544]\n",
    "fraction = 0.1\n",
    "#####################\n",
    "\n",
    "# Instantiate benchmark and read instance set\n",
    "bench_cfg = OmegaConf.load(benchmark_cfg_fn)\n",
    "iset_cfg = OmegaConf.load(instance_set_cfg_fn)\n",
    "bench_cfg = OmegaConf.merge(bench_cfg, iset_cfg)\n",
    "benchmark = instantiate(bench_cfg.benchmark)\n",
    "\n",
    "\n",
    "def random_sample_instance_set(benchmark: AbstractBenchmark, seed: int, fraction: float) -> dict:\n",
    "    benchmark.read_instance_set()\n",
    "    instance_set = benchmark.config[\"instance_set\"]\n",
    "    rng = np.random.default_rng(seed=seed)\n",
    "    n_instances = len(instance_set)\n",
    "    ids = rng.choice(list(instance_set.keys()), size=int(fraction * n_instances), replace=False)\n",
    "    ids = [int(k) for k in ids]\n",
    "    instance_set_new = {k: instance_set[k] for k in ids}\n",
    "    return instance_set_new\n",
    "\n",
    "for seed in seeds:\n",
    "    instance_set_new = random_sample_instance_set(benchmark=benchmark, seed=seed, fraction=fraction)\n",
    "\n",
    "    print(\"Size of new instance set:\", len(instance_set_new))\n",
    "\n",
    "    instance_set_id = iset_cfg.instance_set_id + f\"_{fraction}_{seed}\"\n",
    "\n",
    "    cfg = OmegaConf.create({\n",
    "        \"instance_set_id\": instance_set_id,\n",
    "        \"instance_set_selection\": \"random\",\n",
    "        \"selector\": {\n",
    "            \"seed\": seed,\n",
    "            \"fraction\": fraction,\n",
    "        },\n",
    "        \"source_instance_set_id\": iset_cfg.instance_set_id,\n",
    "        \"benchmark\": {\n",
    "            \"config\": {\n",
    "                \"instance_set\": instance_set_new,\n",
    "                \"instance_set_path\": None,\n",
    "                \"test_set_path\": iset_cfg.benchmark.config.test_set_path,\n",
    "            }\n",
    "        },\n",
    "        \"hydra\": {\n",
    "            \"run\": {\n",
    "                \"dir\": \"runs/${benchmark_id}/${source_instance_set_id}/${agent_name}/${instance_set_selection}/${instance_set_id}/${seed}\",\n",
    "            }, \n",
    "            \"sweep\": {\n",
    "                \"dir\": \"runs/${benchmark_id}\",\n",
    "                \"subdir\": \"${source_instance_set_id}/${agent_name}/${instance_set_selection}/${instance_set_id}/${seed}\",\n",
    "            },\n",
    "        },\n",
    "    })\n",
    "    yaml_str = OmegaConf.to_yaml(cfg)\n",
    "    yaml_str = f\"# @package _global_\\n\\n{yaml_str}\"\n",
    "\n",
    "    target_fn = Path(\"../instance_dac/configs/inst/\") / bench_cfg.benchmark_id.lower().replace(\"-\", \"\") / \"random\" / f\"{instance_set_id}.yaml\"\n",
    "    target_fn.parent.mkdir(exist_ok=True, parents=True)\n",
    "    print(\"Wrote\", target_fn)\n",
    "    target_fn.write_text(yaml_str)"
   ]
  },
  {
   "cell_type": "code",
   "execution_count": 22,
   "metadata": {},
   "outputs": [
    {
     "data": {
      "text/html": [
       "<pre style=\"white-space:pre;overflow-x:auto;line-height:normal;font-family:Menlo,'DejaVu Sans Mono',consolas,'Courier New',monospace\"><span style=\"color: #008080; text-decoration-color: #008080; font-weight: bold\">4</span>\n",
       "</pre>\n"
      ],
      "text/plain": [
       "\u001b[1;36m4\u001b[0m\n"
      ]
     },
     "metadata": {},
     "output_type": "display_data"
    },
    {
     "data": {
      "text/html": [
       "<pre style=\"white-space:pre;overflow-x:auto;line-height:normal;font-family:Menlo,'DejaVu Sans Mono',consolas,'Courier New',monospace\"><span style=\"font-weight: bold\">{</span><span style=\"color: #008080; text-decoration-color: #008080; font-weight: bold\">28</span>: <span style=\"font-weight: bold\">[</span><span style=\"color: #008080; text-decoration-color: #008080; font-weight: bold\">10</span>, <span style=\"color: #008080; text-decoration-color: #008080; font-weight: bold\">8</span>, <span style=\"color: #008080; text-decoration-color: #008080; font-weight: bold\">0</span>, <span style=\"font-weight: bold\">[</span><span style=\"color: #008080; text-decoration-color: #008080; font-weight: bold\">0</span>, <span style=\"color: #008080; text-decoration-color: #008080; font-weight: bold\">0</span>, <span style=\"color: #008080; text-decoration-color: #008080; font-weight: bold\">0</span>, <span style=\"color: #008080; text-decoration-color: #008080; font-weight: bold\">0</span>, <span style=\"color: #008080; text-decoration-color: #008080; font-weight: bold\">0</span>, <span style=\"color: #008080; text-decoration-color: #008080; font-weight: bold\">0</span>, <span style=\"color: #008080; text-decoration-color: #008080; font-weight: bold\">0</span>, <span style=\"color: #008080; text-decoration-color: #008080; font-weight: bold\">0</span>, <span style=\"color: #008080; text-decoration-color: #008080; font-weight: bold\">0</span>, <span style=\"color: #008080; text-decoration-color: #008080; font-weight: bold\">0</span>, <span style=\"color: #008080; text-decoration-color: #008080; font-weight: bold\">0</span><span style=\"font-weight: bold\">]]</span>, <span style=\"color: #008080; text-decoration-color: #008080; font-weight: bold\">9</span>: <span style=\"font-weight: bold\">[</span><span style=\"color: #008080; text-decoration-color: #008080; font-weight: bold\">10</span>, <span style=\"color: #008080; text-decoration-color: #008080; font-weight: bold\">3</span>, <span style=\"color: #008080; text-decoration-color: #008080; font-weight: bold\">1</span>, <span style=\"font-weight: bold\">[</span><span style=\"color: #008080; text-decoration-color: #008080; font-weight: bold\">0</span>, <span style=\"color: #008080; text-decoration-color: #008080; font-weight: bold\">0</span>, <span style=\"color: #008080; text-decoration-color: #008080; font-weight: bold\">0</span>, <span style=\"color: #008080; text-decoration-color: #008080; font-weight: bold\">0</span>, <span style=\"color: #008080; text-decoration-color: #008080; font-weight: bold\">0</span>, <span style=\"color: #008080; text-decoration-color: #008080; font-weight: bold\">0</span>, <span style=\"color: #008080; text-decoration-color: #008080; font-weight: bold\">0</span>, <span style=\"color: #008080; text-decoration-color: #008080; font-weight: bold\">0</span>, <span style=\"color: #008080; text-decoration-color: #008080; font-weight: bold\">0</span>, <span style=\"color: #008080; text-decoration-color: #008080; font-weight: bold\">0</span>, <span style=\"color: #008080; text-decoration-color: #008080; font-weight: bold\">0</span><span style=\"font-weight: bold\">]]</span>, <span style=\"color: #008080; text-decoration-color: #008080; font-weight: bold\">12</span>: <span style=\"font-weight: bold\">[</span><span style=\"color: #008080; text-decoration-color: #008080; font-weight: bold\">10</span>, <span style=\"color: #008080; text-decoration-color: #008080; font-weight: bold\">4</span>, \n",
       "<span style=\"color: #008080; text-decoration-color: #008080; font-weight: bold\">0</span>, <span style=\"font-weight: bold\">[</span><span style=\"color: #008080; text-decoration-color: #008080; font-weight: bold\">0</span>, <span style=\"color: #008080; text-decoration-color: #008080; font-weight: bold\">0</span>, <span style=\"color: #008080; text-decoration-color: #008080; font-weight: bold\">0</span>, <span style=\"color: #008080; text-decoration-color: #008080; font-weight: bold\">0</span>, <span style=\"color: #008080; text-decoration-color: #008080; font-weight: bold\">0</span>, <span style=\"color: #008080; text-decoration-color: #008080; font-weight: bold\">0</span>, <span style=\"color: #008080; text-decoration-color: #008080; font-weight: bold\">0</span>, <span style=\"color: #008080; text-decoration-color: #008080; font-weight: bold\">0</span>, <span style=\"color: #008080; text-decoration-color: #008080; font-weight: bold\">0</span>, <span style=\"color: #008080; text-decoration-color: #008080; font-weight: bold\">0</span>, <span style=\"color: #008080; text-decoration-color: #008080; font-weight: bold\">0</span><span style=\"font-weight: bold\">]]</span>, <span style=\"color: #008080; text-decoration-color: #008080; font-weight: bold\">23</span>: <span style=\"font-weight: bold\">[</span><span style=\"color: #008080; text-decoration-color: #008080; font-weight: bold\">10</span>, <span style=\"color: #008080; text-decoration-color: #008080; font-weight: bold\">6</span>, <span style=\"color: #008080; text-decoration-color: #008080; font-weight: bold\">3</span>, <span style=\"font-weight: bold\">[</span><span style=\"color: #008080; text-decoration-color: #008080; font-weight: bold\">0</span>, <span style=\"color: #008080; text-decoration-color: #008080; font-weight: bold\">0</span>, <span style=\"color: #008080; text-decoration-color: #008080; font-weight: bold\">0</span>, <span style=\"color: #008080; text-decoration-color: #008080; font-weight: bold\">0</span>, <span style=\"color: #008080; text-decoration-color: #008080; font-weight: bold\">0</span>, <span style=\"color: #008080; text-decoration-color: #008080; font-weight: bold\">0</span>, <span style=\"color: #008080; text-decoration-color: #008080; font-weight: bold\">0</span>, <span style=\"color: #008080; text-decoration-color: #008080; font-weight: bold\">0</span>, <span style=\"color: #008080; text-decoration-color: #008080; font-weight: bold\">0</span>, <span style=\"color: #008080; text-decoration-color: #008080; font-weight: bold\">0</span>, <span style=\"color: #008080; text-decoration-color: #008080; font-weight: bold\">0</span><span style=\"font-weight: bold\">]]}</span>\n",
       "</pre>\n"
      ],
      "text/plain": [
       "\u001b[1m{\u001b[0m\u001b[1;36m28\u001b[0m: \u001b[1m[\u001b[0m\u001b[1;36m10\u001b[0m, \u001b[1;36m8\u001b[0m, \u001b[1;36m0\u001b[0m, \u001b[1m[\u001b[0m\u001b[1;36m0\u001b[0m, \u001b[1;36m0\u001b[0m, \u001b[1;36m0\u001b[0m, \u001b[1;36m0\u001b[0m, \u001b[1;36m0\u001b[0m, \u001b[1;36m0\u001b[0m, \u001b[1;36m0\u001b[0m, \u001b[1;36m0\u001b[0m, \u001b[1;36m0\u001b[0m, \u001b[1;36m0\u001b[0m, \u001b[1;36m0\u001b[0m\u001b[1m]\u001b[0m\u001b[1m]\u001b[0m, \u001b[1;36m9\u001b[0m: \u001b[1m[\u001b[0m\u001b[1;36m10\u001b[0m, \u001b[1;36m3\u001b[0m, \u001b[1;36m1\u001b[0m, \u001b[1m[\u001b[0m\u001b[1;36m0\u001b[0m, \u001b[1;36m0\u001b[0m, \u001b[1;36m0\u001b[0m, \u001b[1;36m0\u001b[0m, \u001b[1;36m0\u001b[0m, \u001b[1;36m0\u001b[0m, \u001b[1;36m0\u001b[0m, \u001b[1;36m0\u001b[0m, \u001b[1;36m0\u001b[0m, \u001b[1;36m0\u001b[0m, \u001b[1;36m0\u001b[0m\u001b[1m]\u001b[0m\u001b[1m]\u001b[0m, \u001b[1;36m12\u001b[0m: \u001b[1m[\u001b[0m\u001b[1;36m10\u001b[0m, \u001b[1;36m4\u001b[0m, \n",
       "\u001b[1;36m0\u001b[0m, \u001b[1m[\u001b[0m\u001b[1;36m0\u001b[0m, \u001b[1;36m0\u001b[0m, \u001b[1;36m0\u001b[0m, \u001b[1;36m0\u001b[0m, \u001b[1;36m0\u001b[0m, \u001b[1;36m0\u001b[0m, \u001b[1;36m0\u001b[0m, \u001b[1;36m0\u001b[0m, \u001b[1;36m0\u001b[0m, \u001b[1;36m0\u001b[0m, \u001b[1;36m0\u001b[0m\u001b[1m]\u001b[0m\u001b[1m]\u001b[0m, \u001b[1;36m23\u001b[0m: \u001b[1m[\u001b[0m\u001b[1;36m10\u001b[0m, \u001b[1;36m6\u001b[0m, \u001b[1;36m3\u001b[0m, \u001b[1m[\u001b[0m\u001b[1;36m0\u001b[0m, \u001b[1;36m0\u001b[0m, \u001b[1;36m0\u001b[0m, \u001b[1;36m0\u001b[0m, \u001b[1;36m0\u001b[0m, \u001b[1;36m0\u001b[0m, \u001b[1;36m0\u001b[0m, \u001b[1;36m0\u001b[0m, \u001b[1;36m0\u001b[0m, \u001b[1;36m0\u001b[0m, \u001b[1;36m0\u001b[0m\u001b[1m]\u001b[0m\u001b[1m]\u001b[0m\u001b[1m}\u001b[0m\n"
      ]
     },
     "metadata": {},
     "output_type": "display_data"
    }
   ],
   "source": [
    "# Check if it works:)\n",
    "cfg = OmegaConf.load(target_fn)\n",
    "bcfg =  OmegaConf.load(benchmark_cfg_fn)\n",
    "cfg = OmegaConf.merge(bcfg, cfg)\n",
    "benchmark = instantiate(cfg.benchmark)\n",
    "env = benchmark.get_environment()\n",
    "printr(len(env.instance_set))\n",
    "printr(env.instance_set)"
   ]
  }
 ],
 "metadata": {
  "kernelspec": {
   "display_name": "Python 3",
   "language": "python",
   "name": "python3"
  },
  "language_info": {
   "codemirror_mode": {
    "name": "ipython",
    "version": 3
   },
   "file_extension": ".py",
   "mimetype": "text/x-python",
   "name": "python",
   "nbconvert_exporter": "python",
   "pygments_lexer": "ipython3",
   "version": "3.11.4"
  }
 },
 "nbformat": 4,
 "nbformat_minor": 2
}
