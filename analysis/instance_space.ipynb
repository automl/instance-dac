{
 "cells": [
  {
   "cell_type": "code",
   "execution_count": 43,
   "metadata": {},
   "outputs": [
    {
     "data": {
      "text/html": [
       "<pre style=\"white-space:pre;overflow-x:auto;line-height:normal;font-family:Menlo,'DejaVu Sans Mono',consolas,'Courier New',monospace\"><span style=\"font-weight: bold\">{</span>\n",
       "    <span style=\"color: #008000; text-decoration-color: #008000\">'train_set_path'</span>: \n",
       "<span style=\"color: #008000; text-decoration-color: #008000\">'../../../data/selected_by_selector/Sigmoid/2D3M_train/Test/DS/Catch22/RA/0.7/dominant_0.7_1_use_params_False_sigmo</span>\n",
       "<span style=\"color: #008000; text-decoration-color: #008000\">id_2D3M_test_catch22.csv'</span>,\n",
       "    <span style=\"color: #008000; text-decoration-color: #008000\">'instance_set_id'</span>: <span style=\"color: #008000; text-decoration-color: #008000\">'source_2D3M_train_DS_Catch22_RA_0.7_1'</span>,\n",
       "    <span style=\"color: #008000; text-decoration-color: #008000\">'graph_method'</span>: <span style=\"color: #008000; text-decoration-color: #008000\">'DS'</span>,\n",
       "    <span style=\"color: #008000; text-decoration-color: #008000\">'feature_type'</span>: <span style=\"color: #008000; text-decoration-color: #008000\">'Catch22'</span>,\n",
       "    <span style=\"color: #008000; text-decoration-color: #008000\">'feature_source'</span>: <span style=\"color: #008000; text-decoration-color: #008000\">'RA'</span>,\n",
       "    <span style=\"color: #008000; text-decoration-color: #008000\">'threshold'</span>: <span style=\"color: #008080; text-decoration-color: #008080; font-weight: bold\">0.7</span>,\n",
       "    <span style=\"color: #008000; text-decoration-color: #008000\">'seed'</span>: <span style=\"color: #008080; text-decoration-color: #008080; font-weight: bold\">1</span>\n",
       "<span style=\"font-weight: bold\">}</span>\n",
       "</pre>\n"
      ],
      "text/plain": [
       "\u001b[1m{\u001b[0m\n",
       "    \u001b[32m'train_set_path'\u001b[0m: \n",
       "\u001b[32m'../../../data/selected_by_selector/Sigmoid/2D3M_train/Test/DS/Catch22/RA/0.7/dominant_0.7_1_use_params_False_sigmo\u001b[0m\n",
       "\u001b[32mid_2D3M_test_catch22.csv'\u001b[0m,\n",
       "    \u001b[32m'instance_set_id'\u001b[0m: \u001b[32m'source_2D3M_train_DS_Catch22_RA_0.7_1'\u001b[0m,\n",
       "    \u001b[32m'graph_method'\u001b[0m: \u001b[32m'DS'\u001b[0m,\n",
       "    \u001b[32m'feature_type'\u001b[0m: \u001b[32m'Catch22'\u001b[0m,\n",
       "    \u001b[32m'feature_source'\u001b[0m: \u001b[32m'RA'\u001b[0m,\n",
       "    \u001b[32m'threshold'\u001b[0m: \u001b[1;36m0.7\u001b[0m,\n",
       "    \u001b[32m'seed'\u001b[0m: \u001b[1;36m1\u001b[0m\n",
       "\u001b[1m}\u001b[0m\n"
      ]
     },
     "metadata": {},
     "output_type": "display_data"
    },
    {
     "name": "stdout",
     "output_type": "stream",
     "text": [
      "../instance_dac/configs/inst/sigmoid/selector/source_2D3M_train/source_2D3M_train_DS_Catch22_RA_07_1.yaml\n"
     ]
    },
    {
     "data": {
      "text/html": [
       "<pre style=\"white-space:pre;overflow-x:auto;line-height:normal;font-family:Menlo,'DejaVu Sans Mono',consolas,'Courier New',monospace\">\n",
       "# @package _global_\n",
       "\n",
       "benchmark:  \n",
       "  config:\n",
       "    instance_set_path: \n",
       "..<span style=\"color: #800080; text-decoration-color: #800080\">/../../data/selected_by_selector/Sigmoid/2D3M_train/Test/DS/Catch22/RA/0.7/</span><span style=\"color: #ff00ff; text-decoration-color: #ff00ff\">dominant_0.7_1_use_params_False_sigmoi</span>\n",
       "<span style=\"color: #ff00ff; text-decoration-color: #ff00ff\">d_2D3M_test_catch22.csv</span>\n",
       "    test_set_path: ..<span style=\"color: #800080; text-decoration-color: #800080\">/instance_sets/sigmoid/</span><span style=\"color: #ff00ff; text-decoration-color: #ff00ff\">sigmoid_2D3M_test.csv</span>\n",
       "\n",
       "instance_set_id: source_2D3M_train_DS_Catch22_RA_0.7_1\n",
       "\n",
       "selector:\n",
       "    graph_method: DS\n",
       "    feature_type: Catch22\n",
       "    feature_source: RA\n",
       "    threshold: <span style=\"color: #008080; text-decoration-color: #008080; font-weight: bold\">0.7</span>\n",
       "    seed: <span style=\"color: #008080; text-decoration-color: #008080; font-weight: bold\">1</span>\n",
       "\n",
       "</pre>\n"
      ],
      "text/plain": [
       "\n",
       "# @package _global_\n",
       "\n",
       "benchmark:  \n",
       "  config:\n",
       "    instance_set_path: \n",
       "..\u001b[35m/../../data/selected_by_selector/Sigmoid/2D3M_train/Test/DS/Catch22/RA/0.7/\u001b[0m\u001b[95mdominant_0.7_1_use_params_False_sigmoi\u001b[0m\n",
       "\u001b[95md_2D3M_test_catch22.csv\u001b[0m\n",
       "    test_set_path: ..\u001b[35m/instance_sets/sigmoid/\u001b[0m\u001b[95msigmoid_2D3M_test.csv\u001b[0m\n",
       "\n",
       "instance_set_id: source_2D3M_train_DS_Catch22_RA_0.7_1\n",
       "\n",
       "selector:\n",
       "    graph_method: DS\n",
       "    feature_type: Catch22\n",
       "    feature_source: RA\n",
       "    threshold: \u001b[1;36m0.7\u001b[0m\n",
       "    seed: \u001b[1;36m1\u001b[0m\n",
       "\n"
      ]
     },
     "metadata": {},
     "output_type": "display_data"
    }
   ],
   "source": [
    "from pathlib import Path\n",
    "from rich import print as printr\n",
    "\n",
    "train_set = \"2D3M_train\"\n",
    "data = Path(\"../data/selected_by_selector/Sigmoid/2D3M_train\")\n",
    "fnames = list(data.glob(\"**/*.csv\"))\n",
    "fnames.sort()\n",
    "\n",
    "\n",
    "fname = fnames[0]\n",
    "def get_metadata(fname: Path) -> dict:\n",
    "    metadata = {\n",
    "        \"graph_method\": fname.parts[-5],\n",
    "        \"feature_type\": fname.parts[-4],\n",
    "        \"feature_source\": fname.parts[-3],\n",
    "        \"threshold\": float(fname.parts[-2]),\n",
    "        \"seed\": int(fname.parts[-1].split(\"_\")[2]),\n",
    "\n",
    "    }\n",
    "    return metadata\n",
    "metadata = [get_metadata(fn) for fn in fnames]\n",
    "\n",
    "yaml_path = Path(\"../instance_dac/configs/inst/sigmoid/selector/source_2D3M_train/\")\n",
    "yaml_template = \\\n",
    "\"\"\"\n",
    "# @package _global_\n",
    "\n",
    "benchmark:  \n",
    "  config:\n",
    "    instance_set_path: {train_set_path}\n",
    "    test_set_path: ../instance_sets/sigmoid/sigmoid_2D3M_test.csv\n",
    "\n",
    "instance_set_id: {instance_set_id}\n",
    "\n",
    "selector:\n",
    "    graph_method: {graph_method}\n",
    "    feature_type: {feature_type}\n",
    "    feature_source: {feature_source}\n",
    "    threshold: {threshold}\n",
    "    seed: {seed}\n",
    "\"\"\"\n",
    "\n",
    "for fname, meta in zip(fnames, metadata):\n",
    "    instance_set_id = f\"source_{train_set}_\" + \"_\".join([str(v) for v in meta.values()])\n",
    "    config = {\n",
    "        \"train_set_path\": \"../../\" + str(fname), # assuming DACBench folder is in instance-dac folder\n",
    "        \"instance_set_id\": instance_set_id,\n",
    "    }\n",
    "    config.update(meta)\n",
    "    printr(config)\n",
    "\n",
    "    instance_set_id_fn = instance_set_id.replace(\".\", \"\")\n",
    "    yaml_fn = yaml_path / f\"{instance_set_id_fn}.yaml\"\n",
    "    print(yaml_fn)\n",
    "\n",
    "    yaml_str = yaml_template.format(**config)\n",
    "    printr(yaml_str)\n",
    "\n",
    "    yaml_fn.write_text(yaml_str)\n",
    "\n",
    "    break\n"
   ]
  }
 ],
 "metadata": {
  "kernelspec": {
   "display_name": "Python 3",
   "language": "python",
   "name": "python3"
  },
  "language_info": {
   "codemirror_mode": {
    "name": "ipython",
    "version": 3
   },
   "file_extension": ".py",
   "mimetype": "text/x-python",
   "name": "python",
   "nbconvert_exporter": "python",
   "pygments_lexer": "ipython3",
   "version": "3.11.4"
  }
 },
 "nbformat": 4,
 "nbformat_minor": 2
}
