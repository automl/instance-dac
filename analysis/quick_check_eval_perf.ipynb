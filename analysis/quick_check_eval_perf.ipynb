{
 "cells": [
  {
   "cell_type": "code",
   "execution_count": 1,
   "metadata": {},
   "outputs": [
    {
     "name": "stderr",
     "output_type": "stream",
     "text": [
      "/scratch/hpc-prf-intexml/cbenjamins/envs/instancedac/lib/python3.11/site-packages/glfw/__init__.py:916: GLFWError: (65544) b'X11: The DISPLAY environment variable is missing'\n",
      "  warnings.warn(message, GLFWError)\n"
     ]
    },
    {
     "name": "stdout",
     "output_type": "stream",
     "text": [
      "pygame 2.5.2 (SDL 2.28.2, Python 3.11.6)\n",
      "Hello from the pygame community. https://www.pygame.org/contribute.html\n"
     ]
    },
    {
     "name": "stderr",
     "output_type": "stream",
     "text": [
      "/scratch/hpc-prf-intexml/cbenjamins/repos/instance-dac/DACBench/dacbench/envs/__init__.py:46: UserWarning: SGD Benchmark not installed. If you want to use this benchmark, please follow the installation guide.\n",
      "  warnings.warn(\n",
      "/scratch/hpc-prf-intexml/cbenjamins/repos/instance-dac/DACBench/dacbench/benchmarks/__init__.py:37: UserWarning: SGD Benchmark not installed. If you want to use this benchmark, please follow the installation guide.\n",
      "  warnings.warn(\n"
     ]
    },
    {
     "name": "stdout",
     "output_type": "stream",
     "text": [
      "DACBench Gym registration failed - make sure you have all dependencies installed and their instance sets in the right path!\n"
     ]
    },
    {
     "data": {
      "application/vnd.jupyter.widget-view+json": {
       "model_id": "5e6bb0ea72db4d0cac21093b559d5324",
       "version_major": 2,
       "version_minor": 0
      },
      "text/plain": [
       "Output()"
      ]
     },
     "metadata": {},
     "output_type": "display_data"
    },
    {
     "name": "stdout",
     "output_type": "stream",
     "text": [
      "[PosixPath('../runs/CMA-ES/seplow_train/ppo_sb3/full/9/logs/eval/train/PerformanceTrackingWrapper.jsonl'), PosixPath('../runs/CMA-ES/seplow_train/ppo_sb3/full/8/logs/eval/train/PerformanceTrackingWrapper.jsonl'), PosixPath('../runs/CMA-ES/seplow_train/ppo_sb3/full/6/logs/eval/train/PerformanceTrackingWrapper.jsonl'), PosixPath('../runs/CMA-ES/seplow_train/ppo_sb3/full/10/logs/eval/train/PerformanceTrackingWrapper.jsonl'), PosixPath('../runs/CMA-ES/seplow_train/ppo_sb3/full/3/logs/eval/train/PerformanceTrackingWrapper.jsonl'), PosixPath('../runs/CMA-ES/seplow_train/ppo_sb3/full/5/logs/eval/train/PerformanceTrackingWrapper.jsonl'), PosixPath('../runs/CMA-ES/seplow_train/ppo_sb3/full/7/logs/eval/train/PerformanceTrackingWrapper.jsonl'), PosixPath('../runs/CMA-ES/seplow_train/ppo_sb3/full/2/logs/eval/train/PerformanceTrackingWrapper.jsonl'), PosixPath('../runs/CMA-ES/seplow_train/ppo_sb3/full/4/logs/eval/train/PerformanceTrackingWrapper.jsonl'), PosixPath('../runs/CMA-ES/seplow_train/ppo_sb3/full/1/logs/eval/train/PerformanceTrackingWrapper.jsonl')]\n"
     ]
    },
    {
     "data": {
      "text/html": [
       "<pre style=\"white-space:pre;overflow-x:auto;line-height:normal;font-family:Menlo,'DejaVu Sans Mono',consolas,'Courier New',monospace\"></pre>\n"
      ],
      "text/plain": []
     },
     "metadata": {},
     "output_type": "display_data"
    },
    {
     "data": {
      "text/html": [
       "<pre style=\"white-space:pre;overflow-x:auto;line-height:normal;font-family:Menlo,'DejaVu Sans Mono',consolas,'Courier New',monospace\">\n",
       "</pre>\n"
      ],
      "text/plain": [
       "\n"
      ]
     },
     "metadata": {},
     "output_type": "display_data"
    },
    {
     "data": {
      "application/vnd.jupyter.widget-view+json": {
       "model_id": "0d89e8d3bf8249c68901ab0c68d519ba",
       "version_major": 2,
       "version_minor": 0
      },
      "text/plain": [
       "Output()"
      ]
     },
     "metadata": {},
     "output_type": "display_data"
    },
    {
     "name": "stdout",
     "output_type": "stream",
     "text": [
      "[PosixPath('../runs/CMA-ES/seplow_test/random/full/9/logs/eval/train/PerformanceTrackingWrapper.jsonl'), PosixPath('../runs/CMA-ES/seplow_test/random/full/8/logs/eval/train/PerformanceTrackingWrapper.jsonl'), PosixPath('../runs/CMA-ES/seplow_test/random/full/6/logs/eval/train/PerformanceTrackingWrapper.jsonl'), PosixPath('../runs/CMA-ES/seplow_test/random/full/10/logs/eval/train/PerformanceTrackingWrapper.jsonl'), PosixPath('../runs/CMA-ES/seplow_test/random/full/3/logs/eval/train/PerformanceTrackingWrapper.jsonl'), PosixPath('../runs/CMA-ES/seplow_test/random/full/5/logs/eval/train/PerformanceTrackingWrapper.jsonl'), PosixPath('../runs/CMA-ES/seplow_test/random/full/7/logs/eval/train/PerformanceTrackingWrapper.jsonl'), PosixPath('../runs/CMA-ES/seplow_test/random/full/2/logs/eval/train/PerformanceTrackingWrapper.jsonl'), PosixPath('../runs/CMA-ES/seplow_test/random/full/4/logs/eval/train/PerformanceTrackingWrapper.jsonl'), PosixPath('../runs/CMA-ES/seplow_test/random/full/1/logs/eval/train/PerformanceTrackingWrapper.jsonl')]\n"
     ]
    },
    {
     "data": {
      "text/html": [
       "<pre style=\"white-space:pre;overflow-x:auto;line-height:normal;font-family:Menlo,'DejaVu Sans Mono',consolas,'Courier New',monospace\"></pre>\n"
      ],
      "text/plain": []
     },
     "metadata": {},
     "output_type": "display_data"
    },
    {
     "data": {
      "text/html": [
       "<pre style=\"white-space:pre;overflow-x:auto;line-height:normal;font-family:Menlo,'DejaVu Sans Mono',consolas,'Courier New',monospace\">\n",
       "</pre>\n"
      ],
      "text/plain": [
       "\n"
      ]
     },
     "metadata": {},
     "output_type": "display_data"
    },
    {
     "ename": "ValueError",
     "evalue": "The truth value of a DataFrame is ambiguous. Use a.empty, a.bool(), a.item(), a.any() or a.all().",
     "output_type": "error",
     "traceback": [
      "\u001b[0;31m---------------------------------------------------------------------------\u001b[0m",
      "\u001b[0;31mValueError\u001b[0m                                Traceback (most recent call last)",
      "\u001b[0;32m/tmp/ipykernel_1501185/1260743398.py\u001b[0m in \u001b[0;36m?\u001b[0;34m()\u001b[0m\n\u001b[1;32m     20\u001b[0m \u001b[0mdata\u001b[0m\u001b[0;34m[\u001b[0m\u001b[0;34m\"origin\"\u001b[0m\u001b[0;34m]\u001b[0m \u001b[0;34m=\u001b[0m \u001b[0;34m\"train\"\u001b[0m\u001b[0;34m\u001b[0m\u001b[0;34m\u001b[0m\u001b[0m\n\u001b[1;32m     21\u001b[0m \u001b[0mD\u001b[0m\u001b[0;34m.\u001b[0m\u001b[0mappend\u001b[0m\u001b[0;34m(\u001b[0m\u001b[0mdata\u001b[0m\u001b[0;34m)\u001b[0m\u001b[0;34m\u001b[0m\u001b[0;34m\u001b[0m\u001b[0m\n\u001b[1;32m     22\u001b[0m \u001b[0mdata\u001b[0m \u001b[0;34m=\u001b[0m \u001b[0mload_performance_data\u001b[0m\u001b[0;34m(\u001b[0m\u001b[0;34m\"../runs/CMA-ES/seplow_test/random/full\"\u001b[0m\u001b[0;34m,\u001b[0m \u001b[0msearch_prefix\u001b[0m\u001b[0;34m=\u001b[0m\u001b[0;34mf\"/eval/{train_set_id}/\"\u001b[0m\u001b[0;34m)\u001b[0m\u001b[0;34m\u001b[0m\u001b[0;34m\u001b[0m\u001b[0m\n\u001b[1;32m     23\u001b[0m \u001b[0mdata\u001b[0m\u001b[0;34m[\u001b[0m\u001b[0;34m\"origin\"\u001b[0m\u001b[0;34m]\u001b[0m \u001b[0;34m=\u001b[0m \u001b[0;34m\"random_train\"\u001b[0m\u001b[0;34m\u001b[0m\u001b[0;34m\u001b[0m\u001b[0m\n\u001b[0;32m---> 24\u001b[0;31m \u001b[0;32mif\u001b[0m \u001b[0mdata\u001b[0m\u001b[0;34m:\u001b[0m\u001b[0;34m\u001b[0m\u001b[0;34m\u001b[0m\u001b[0m\n\u001b[0m\u001b[1;32m     25\u001b[0m   \u001b[0mD\u001b[0m\u001b[0;34m.\u001b[0m\u001b[0mappend\u001b[0m\u001b[0;34m(\u001b[0m\u001b[0mdata\u001b[0m\u001b[0;34m)\u001b[0m\u001b[0;34m\u001b[0m\u001b[0;34m\u001b[0m\u001b[0m\n\u001b[1;32m     26\u001b[0m \u001b[0mdata\u001b[0m \u001b[0;34m=\u001b[0m \u001b[0mload_performance_data\u001b[0m\u001b[0;34m(\u001b[0m\u001b[0mpath\u001b[0m\u001b[0;34m,\u001b[0m \u001b[0msearch_prefix\u001b[0m\u001b[0;34m=\u001b[0m\u001b[0;34mf\"/eval/{test_set_id}/\"\u001b[0m\u001b[0;34m)\u001b[0m\u001b[0;34m\u001b[0m\u001b[0;34m\u001b[0m\u001b[0m\n\u001b[1;32m     27\u001b[0m \u001b[0mdata\u001b[0m\u001b[0;34m[\u001b[0m\u001b[0;34m\"origin\"\u001b[0m\u001b[0;34m]\u001b[0m \u001b[0;34m=\u001b[0m \u001b[0;34m\"test\"\u001b[0m\u001b[0;34m\u001b[0m\u001b[0;34m\u001b[0m\u001b[0m\n",
      "\u001b[0;32m/scratch/hpc-prf-intexml/cbenjamins/envs/instancedac/lib/python3.11/site-packages/pandas/core/generic.py\u001b[0m in \u001b[0;36m?\u001b[0;34m(self)\u001b[0m\n\u001b[1;32m   1525\u001b[0m     \u001b[0;34m@\u001b[0m\u001b[0mfinal\u001b[0m\u001b[0;34m\u001b[0m\u001b[0;34m\u001b[0m\u001b[0m\n\u001b[1;32m   1526\u001b[0m     \u001b[0;32mdef\u001b[0m \u001b[0m__nonzero__\u001b[0m\u001b[0;34m(\u001b[0m\u001b[0mself\u001b[0m\u001b[0;34m)\u001b[0m \u001b[0;34m->\u001b[0m \u001b[0mNoReturn\u001b[0m\u001b[0;34m:\u001b[0m\u001b[0;34m\u001b[0m\u001b[0;34m\u001b[0m\u001b[0m\n\u001b[0;32m-> 1527\u001b[0;31m         raise ValueError(\n\u001b[0m\u001b[1;32m   1528\u001b[0m             \u001b[0;34mf\"The truth value of a {type(self).__name__} is ambiguous. \"\u001b[0m\u001b[0;34m\u001b[0m\u001b[0;34m\u001b[0m\u001b[0m\n\u001b[1;32m   1529\u001b[0m             \u001b[0;34m\"Use a.empty, a.bool(), a.item(), a.any() or a.all().\"\u001b[0m\u001b[0;34m\u001b[0m\u001b[0;34m\u001b[0m\u001b[0m\n\u001b[1;32m   1530\u001b[0m         )\n",
      "\u001b[0;31mValueError\u001b[0m: The truth value of a DataFrame is ambiguous. Use a.empty, a.bool(), a.item(), a.any() or a.all()."
     ]
    }
   ],
   "source": [
    "from pathlib import Path\n",
    "from instance_dac.utils.data_loading import load_performance_data\n",
    "import pandas as pd\n",
    "import numpy as np\n",
    "from rliable import library as rly\n",
    "from rliable import metrics\n",
    "from rliable import plot_utils\n",
    "import seaborn as sns\n",
    "\n",
    "sns.set_style(\"whitegrid\")\n",
    "\n",
    "\n",
    "\n",
    "path = Path(\"../runs/CMA-ES/seplow_train/ppo_sb3/full\")\n",
    "train_set_id = \"train\"\n",
    "test_set_id = \"test\"\n",
    "\n",
    "D = []\n",
    "data = load_performance_data(path, search_prefix=f\"/eval/{train_set_id}/\")\n",
    "data[\"origin\"] = \"train\"\n",
    "D.append(data)\n",
    "data = load_performance_data(\"../runs/CMA-ES/seplow_test/random/full\", search_prefix=f\"/eval/{train_set_id}/\")\n",
    "data[\"origin\"] = \"random_train\"\n",
    "if data:\n",
    "  D.append(data)\n",
    "data = load_performance_data(path, search_prefix=f\"/eval/{test_set_id}/\")\n",
    "data[\"origin\"] = \"test\"\n",
    "if data:\n",
    "  D.append(data)\n",
    "data = load_performance_data(\"../runs/CMA-ES/seplow_test/random/full\", search_prefix=f\"/eval/{train_set_id}/\")\n",
    "data[\"origin\"] = \"random_test\"\n",
    "if data:\n",
    "  D.append(data)\n",
    "data = pd.concat(D)\n",
    "\n",
    "perf = pd.DataFrame(data.groupby([\"origin\", \"seed\", \"instance\"])[\"overall_performance\"].mean())\n",
    "perf_dict = {}\n",
    "for gid, gdf in perf.groupby(\"origin\"):\n",
    "    gdf = gdf.reset_index()\n",
    "    P = gdf[\"overall_performance\"].to_numpy()\n",
    "    P = P.reshape((gdf[\"seed\"].nunique(), gdf[\"instance\"].nunique()))\n",
    "    perf_dict[gid] = P\n",
    "\n",
    "\n",
    "\n",
    "\n",
    "algorithms = list(perf_dict.keys())\n",
    "# Load ALE scores as a dictionary mapping algorithms to their human normalized\n",
    "# score matrices, each of which is of size `(num_runs x num_games)`.\n",
    "aggregate_func = lambda x: np.array([\n",
    "  metrics.aggregate_median(x),\n",
    "  metrics.aggregate_iqm(x),\n",
    "  metrics.aggregate_mean(x),\n",
    "  metrics.aggregate_optimality_gap(x)])\n",
    "aggregate_scores, aggregate_score_cis = rly.get_interval_estimates(\n",
    "  perf_dict, aggregate_func, reps=5000)\n",
    "fig, axes = plot_utils.plot_interval_estimates(\n",
    "  aggregate_scores, aggregate_score_cis,\n",
    "  metric_names=['Median', 'IQM', 'Mean', 'Optimality Gap'],\n",
    "  algorithms=algorithms, xlabel='Overall Performance')\n",
    "\n",
    "fig.set_tight_layout(True)"
   ]
  },
  {
   "cell_type": "code",
   "execution_count": 4,
   "metadata": {},
   "outputs": [
    {
     "data": {
      "text/plain": [
       "{'test': array([[-9.70070259e+00, -4.82472248e+08, -9.95316639e+05,\n",
       "         -1.49418460e+06, -9.21486377e+06, -4.94488159e+07,\n",
       "         -5.63849324e+05, -1.10461497e+07, -7.20507259e+06,\n",
       "         -5.23745650e+08],\n",
       "        [-2.01925486e+01, -4.33691549e+08, -9.29890617e+05,\n",
       "         -1.27896515e+06, -9.06157327e+06, -2.92204951e+07,\n",
       "         -4.27658333e+05, -4.87638625e+06, -3.05210312e+06,\n",
       "         -3.91505071e+08],\n",
       "        [-6.12966665e+00, -6.24429279e+08, -1.02112346e+06,\n",
       "         -1.56224907e+06, -9.30999264e+06, -1.04962687e+08,\n",
       "         -6.19154980e+05, -2.40466595e+07, -1.56191069e+07,\n",
       "         -7.57499124e+08],\n",
       "        [-8.68157134e+00, -3.32405386e+08, -8.78913364e+05,\n",
       "         -1.28092556e+06, -9.20282957e+06, -4.68105115e+07,\n",
       "         -5.36254867e+05, -1.14105061e+07, -9.29827457e+06,\n",
       "         -6.59650861e+08],\n",
       "        [-2.95622545e+01, -5.77639637e+08, -1.09239750e+06,\n",
       "         -1.59526827e+06, -9.51920345e+06, -1.10398421e+08,\n",
       "         -6.02207774e+05, -1.83342915e+07, -1.16545764e+07,\n",
       "         -7.17377016e+08],\n",
       "        [-2.95529787e+01, -5.26990651e+08, -1.04040284e+06,\n",
       "         -1.34085397e+06, -9.13916479e+06, -6.18114286e+07,\n",
       "         -4.71008058e+05, -8.67783721e+06, -4.90473473e+06,\n",
       "         -4.39070950e+08],\n",
       "        [-1.55001061e+01, -4.34058590e+08, -8.66516165e+05,\n",
       "         -1.24910953e+06, -8.52446513e+06, -7.46082365e+06,\n",
       "         -3.70141102e+05, -3.48386949e+06, -1.69087068e+06,\n",
       "         -3.03814064e+08],\n",
       "        [-1.43943971e+01, -4.98321131e+08, -9.02929749e+05,\n",
       "         -1.45685130e+06, -8.95648972e+06, -2.27806249e+07,\n",
       "         -5.13447367e+05, -9.22855331e+06, -5.14933856e+06,\n",
       "         -5.28483489e+08],\n",
       "        [-1.13978832e+01, -3.46113639e+08, -9.08622814e+05,\n",
       "         -1.39241780e+06, -8.89594031e+06, -2.66524903e+07,\n",
       "         -4.98550856e+05, -1.20603404e+07, -9.21330544e+06,\n",
       "         -5.92920496e+08],\n",
       "        [-6.65999814e+00, -4.49488478e+08, -1.00161913e+06,\n",
       "         -1.27224509e+06, -9.16632454e+06, -2.46922608e+07,\n",
       "         -4.49817916e+05, -5.35632629e+06, -3.47052052e+06,\n",
       "         -4.48520724e+08]])}"
      ]
     },
     "execution_count": 4,
     "metadata": {},
     "output_type": "execute_result"
    }
   ],
   "source": [
    "perf_dict"
   ]
  }
 ],
 "metadata": {
  "kernelspec": {
   "display_name": "Python 3",
   "language": "python",
   "name": "python3"
  },
  "language_info": {
   "codemirror_mode": {
    "name": "ipython",
    "version": 3
   },
   "file_extension": ".py",
   "mimetype": "text/x-python",
   "name": "python",
   "nbconvert_exporter": "python",
   "pygments_lexer": "ipython3",
   "version": "3.11.6"
  }
 },
 "nbformat": 4,
 "nbformat_minor": 2
}
