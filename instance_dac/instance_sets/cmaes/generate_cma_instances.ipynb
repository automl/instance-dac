{
 "cells": [
  {
   "cell_type": "code",
   "execution_count": 1,
   "metadata": {},
   "outputs": [],
   "source": [
    "import numpy as np\n",
    "import itertools\n",
    "\n",
    "header = \"ID,dim,fcn_id,inst_id,rep0,rep1,rep2,rep3,rep4,rep5,rep6,rep7,rep8,rep9,rep10\\n\"\n",
    "\n",
    "instances_train = [0, 1, 2, 3]\n",
    "instances_test = [4]\n",
    "\n",
    "# separable functions + low & moderate conditioning\n",
    "benchmark = {\n",
    "    \"easy\": {\n",
    "        \"fid\": np.arange(1, 6),\n",
    "    },\n",
    "    \"seplow\": {\n",
    "        \"fid\": np.arange(1, 11),\n",
    "    },\n",
    "}\n",
    "\n",
    "fids = np.arange(1, 11)\n",
    "\n",
    "fname_train = \"train.csv\"\n",
    "fname_test = \"test.csv\"\n",
    "\n",
    "combos_train = itertools.product(fids, instances_train)\n",
    "combos_test = itertools.product(fids, instances_test)\n",
    "\n",
    "for fname, combos in zip([fname_train, fname_test], [combos_train, combos_test]):\n",
    "    text = header\n",
    "    for i, combo in enumerate(combos):\n",
    "        fid, instid = combo\n",
    "        text += f\"{int(i)},10,{fid},{instid},0,0,0,0,0,0,0,0,0,0,0\\n\"\n",
    "    with open(fname, \"w\") as file:\n",
    "        file.write(text)"
   ]
  }
 ],
 "metadata": {
  "kernelspec": {
   "display_name": "Python 3",
   "language": "python",
   "name": "python3"
  },
  "language_info": {
   "codemirror_mode": {
    "name": "ipython",
    "version": 3
   },
   "file_extension": ".py",
   "mimetype": "text/x-python",
   "name": "python",
   "nbconvert_exporter": "python",
   "pygments_lexer": "ipython3",
   "version": "3.11.4"
  }
 },
 "nbformat": 4,
 "nbformat_minor": 2
}
